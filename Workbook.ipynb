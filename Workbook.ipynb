{
 "cells": [
  {
   "cell_type": "code",
   "execution_count": 2,
   "metadata": {
    "ExecuteTime": {
     "end_time": "2018-12-17T21:21:55.862046Z",
     "start_time": "2018-12-17T21:21:55.840356Z"
    }
   },
   "outputs": [],
   "source": [
    "import numpy as np\n",
    "import pandas as pd\n",
    "\n",
    "from als import ALS, SparkALS, random_ratings"
   ]
  },
  {
   "cell_type": "markdown",
   "metadata": {},
   "source": [
    "The basic goal of the ALS algorithm is to solve for some matricies $U,V$ such that for a ratings matrix $R$, we satisfy \n",
    "$$ R \\approx UV^T. $$\n",
    "\n",
    "The error in the above is minimized with the error function \n",
    "\\begin{equation}\n",
    "f(R,U,V) = \\sum_{r_{i,j} \\neq 0} (r_{i,j} - \\mathbf{u}_i\\mathbf{v}_j^T)^2 + \\lambda \\left(\\sum_{i} |\\mathbf{u}_i|^2 +  \\sum_{j}|\\mathbf{v}_j|^2 \\right)\n",
    "\\end{equation}\n",
    "\n",
    "\n",
    "Although the interaction term $\\mathbf{u}_{i}\\mathbf{v}_{j}^T$ suggests $f$ is not convex, by holding either $U$ or $V$ constant, a quadradic solution can be approximated for the other.\n",
    "$$ u_i = \\sum_{r_{ij}\\neq 0} r_{ij}\\mathbf{v}_j^T  \\left( \\sum_{r_{ij}\\neq 0}  \\mathbf{v}_j^T\\mathbf{v}_j + \\lambda \\mathbb{1}_n\\right)^{-1} $$\n",
    "    \n",
    "    \n",
    "$$ v_j = \\sum_{r_{ij}\\neq 0} r_{ij}\\mathbf{u}_i^T \\left( \\sum_{r_{ij}\\neq 0}  \\mathbf{u}_i^T\\mathbf{u}_i + \\lambda \\mathbb{1}_m\\right)^{-1} $$\n",
    "  \n",
    "where $\\mathbb{1}_k$ is the $k$th dimensional identity matrix.\n"
   ]
  },
  {
   "cell_type": "code",
   "execution_count": 4,
   "metadata": {
    "ExecuteTime": {
     "end_time": "2018-12-17T21:22:15.475535Z",
     "start_time": "2018-12-17T21:22:14.609365Z"
    }
   },
   "outputs": [],
   "source": [
    "X,y = random_ratings(800, 400)"
   ]
  },
  {
   "cell_type": "code",
   "execution_count": 19,
   "metadata": {
    "ExecuteTime": {
     "end_time": "2018-12-17T21:26:58.255926Z",
     "start_time": "2018-12-17T21:26:58.182768Z"
    }
   },
   "outputs": [
    {
     "data": {
      "text/plain": [
       "263723.8313194991"
      ]
     },
     "execution_count": 19,
     "metadata": {},
     "output_type": "execute_result"
    }
   ],
   "source": [
    "als = ALS()\n",
    "U,V = als.fit(X,y)\n",
    "als._error((X,y), U, V.T)"
   ]
  },
  {
   "cell_type": "code",
   "execution_count": 18,
   "metadata": {
    "ExecuteTime": {
     "end_time": "2018-12-17T21:26:53.760458Z",
     "start_time": "2018-12-17T21:26:51.470329Z"
    }
   },
   "outputs": [
    {
     "data": {
      "text/plain": [
       "85767.62353581289"
      ]
     },
     "execution_count": 18,
     "metadata": {},
     "output_type": "execute_result"
    }
   ],
   "source": [
    "spark_als = SparkALS()\n",
    "U_,V_ = spark_als.fit(X,y)\n",
    "als._error((X,y), U_, V_.T)"
   ]
  },
  {
   "cell_type": "markdown",
   "metadata": {},
   "source": [
    "# Observations\n",
    "\n",
    "The python based ALS model performs significantly worse than the Spark model (as expected). Future improvements might consist of support for blocks and multiprocessing as well as implementation of nonlinear "
   ]
  },
  {
   "cell_type": "code",
   "execution_count": null,
   "metadata": {},
   "outputs": [],
   "source": []
  }
 ],
 "metadata": {
  "kernelspec": {
   "display_name": "Python 3",
   "language": "python",
   "name": "python3"
  },
  "language_info": {
   "codemirror_mode": {
    "name": "ipython",
    "version": 3
   },
   "file_extension": ".py",
   "mimetype": "text/x-python",
   "name": "python",
   "nbconvert_exporter": "python",
   "pygments_lexer": "ipython3",
   "version": "3.6.5"
  }
 },
 "nbformat": 4,
 "nbformat_minor": 2
}
